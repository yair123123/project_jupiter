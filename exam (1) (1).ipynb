{
 "cells": [
  {
   "cell_type": "code",
   "execution_count": null,
   "id": "6a9e9f5945c1b169",
   "metadata": {},
   "outputs": [],
   "source": []
  },
  {
   "cell_type": "markdown",
   "id": "2b8e938eb34b0315",
   "metadata": {},
   "source": [
    "# Exercise: Exploratory Data Analysis with Pandas\n",
    "## Instructions\n",
    "1. Data Collection\n",
    "    - Search and collect data on the following: (1993 - 2023)\n",
    "        - Israel interest tares\n",
    "        - US interest rates\n",
    "        - USD to ILS exchange rates\n",
    "    - For each dataset, create a pandas DataFrame with the following columns:\n",
    "        - Year\n",
    "        - Month\n",
    "        - Current_Rate (Interest rate or exchange rate for that month)\n",
    "        - Change_From_Last_Month (Difference in Current_Rate from the previous month)\n",
    "        - Optional: You may include additional columns if you find them useful (e.g., Change_Percentage, Date).\n",
    "\n"
   ]
  },
  {
   "cell_type": "code",
   "execution_count": 108,
   "id": "17a7b132e53c5faa",
   "metadata": {},
   "outputs": [],
   "source": [
    "def interest_rate_normalization(exr):\n",
    "    columns_to_drop = ['FREQ', 'COUNTER_CURRENCY', 'SERIES_CODE','SERIES_CODE', 'שם סדרה', 'FREQ', 'תדירות', 'BASE_CURRENCY',\n",
    "       'מטבע בסיס', 'מטבע נגדי', 'UNIT_MEASURE',\n",
    "       'יחידות מידה', 'סוג נתון', 'DATA_SOURCE', 'מקור נתונים',\n",
    "       'אופן חישוב בתקופת זמן', 'CONF_STATUS', 'סיווג סודיות',\n",
    "       'PUB_WEBSITE', 'פרסום באתר', 'מכפיל יחידות', 'COMMENTS',\n",
    "        'RELEASE_STATUS', 'שחרור תצפית','UNIT_MULT','TIME_COLLECT','DATA_TYPE']\n",
    "    exr.drop(columns=columns_to_drop,inplace=True)\n",
    "    exr['TIME_PERIOD'] = pd.to_datetime(exr['TIME_PERIOD'])\n",
    "    exr.set_index('TIME_PERIOD', inplace=True)\n",
    "    return exr.resample('M').mean() "
   ]
  },
  {
   "cell_type": "code",
   "execution_count": null,
   "id": "fb3346a5-694f-4415-8dbe-bbe42892d75b",
   "metadata": {},
   "outputs": [],
   "source": []
  },
  {
   "cell_type": "code",
   "execution_count": 109,
   "id": "8fb38157aa6333f3",
   "metadata": {},
   "outputs": [
    {
     "data": {
      "text/html": [
       "<div>\n",
       "<style scoped>\n",
       "    .dataframe tbody tr th:only-of-type {\n",
       "        vertical-align: middle;\n",
       "    }\n",
       "\n",
       "    .dataframe tbody tr th {\n",
       "        vertical-align: top;\n",
       "    }\n",
       "\n",
       "    .dataframe thead th {\n",
       "        text-align: right;\n",
       "    }\n",
       "</style>\n",
       "<table border=\"1\" class=\"dataframe\">\n",
       "  <thead>\n",
       "    <tr style=\"text-align: right;\">\n",
       "      <th></th>\n",
       "      <th>value</th>\n",
       "    </tr>\n",
       "    <tr>\n",
       "      <th>DATE</th>\n",
       "      <th></th>\n",
       "    </tr>\n",
       "  </thead>\n",
       "  <tbody>\n",
       "    <tr>\n",
       "      <th>1993-01</th>\n",
       "      <td>3.02</td>\n",
       "    </tr>\n",
       "    <tr>\n",
       "      <th>1993-02</th>\n",
       "      <td>3.03</td>\n",
       "    </tr>\n",
       "    <tr>\n",
       "      <th>1993-03</th>\n",
       "      <td>3.07</td>\n",
       "    </tr>\n",
       "    <tr>\n",
       "      <th>1993-04</th>\n",
       "      <td>2.96</td>\n",
       "    </tr>\n",
       "    <tr>\n",
       "      <th>1993-05</th>\n",
       "      <td>3.00</td>\n",
       "    </tr>\n",
       "  </tbody>\n",
       "</table>\n",
       "</div>"
      ],
      "text/plain": [
       "         value\n",
       "DATE          \n",
       "1993-01   3.02\n",
       "1993-02   3.03\n",
       "1993-03   3.07\n",
       "1993-04   2.96\n",
       "1993-05   3.00"
      ]
     },
     "execution_count": 109,
     "metadata": {},
     "output_type": "execute_result"
    }
   ],
   "source": [
    "import pandas as pd\n",
    "\n",
    "\n",
    "def exr_normalization(exr):\n",
    "    columns_to_drop = ['FREQ', 'COUNTER_CURRENCY', 'SERIES_CODE','SERIES_CODE', 'שם סדרה', 'FREQ', 'תדירות', 'BASE_CURRENCY',\n",
    "       'מטבע בסיס', 'מטבע נגדי', 'UNIT_MEASURE',\n",
    "       'יחידות מידה', 'סוג נתון', 'DATA_SOURCE', 'מקור נתונים',\n",
    "       'אופן חישוב בתקופת זמן', 'CONF_STATUS', 'סיווג סודיות',\n",
    "       'PUB_WEBSITE', 'פרסום באתר', 'מכפיל יחידות', 'COMMENTS',\n",
    "        'RELEASE_STATUS', 'שחרור תצפית','UNIT_MULT','TIME_COLLECT','DATA_TYPE']\n",
    "    exr.drop(columns=columns_to_drop, inplace=True)\n",
    "    exr['TIME_PERIOD'] = pd.to_datetime(exr['TIME_PERIOD'], errors='coerce')\n",
    "    exr.set_index('TIME_PERIOD', inplace=True)\n",
    "    exr.rename_axis('DATE',inplace=True)\n",
    "    exr.rename(columns={'OBS_VALUE':'value'},inplace=True)\n",
    "    return exr.resample('M').mean() \n",
    "\n",
    "\n",
    "def interest_rate_normalization(exr):\n",
    "    columns_to_drop = ['SERIES_CODE', 'שם סדרה', 'FREQ', 'תדירות', 'IR_FV_TYPE', 'סוג ריבית',\n",
    "       'DATA_SOURCE', 'מקור נתונים', 'TIME_COLLECT', 'אופן חישוב בתקופת זמן',\n",
    "       'CONF_STATUS', 'סיווג סודיות', 'PUB_WEBSITE', 'פרסום באתר',\n",
    "       'UNIT_MEASURE', 'יחידות מידה', 'UNIT_MULT', 'מכפיל יחידות',\n",
    "        'RELEASE_STATUS', 'שחרור תצפית']\n",
    "    exr.drop(columns=columns_to_drop, inplace=True)\n",
    "    exr['TIME_PERIOD'] = pd.to_datetime(exr['TIME_PERIOD'], errors='coerce')\n",
    "    exr.set_index('TIME_PERIOD', inplace=True)\n",
    "    exr.rename_axis('DATE',inplace=True)\n",
    "    exr.rename(columns={'OBS_VALUE':'value'},inplace=True)\n",
    "    return exr.resample('M').mean() \n",
    "\n",
    "\n",
    "americas_interest_rate = pd.read_csv('FEDFUNDS.csv', delimiter=',')\n",
    "israel_interest_rate = pd.read_csv('BR.csv', delimiter=',')\n",
    "exr = pd.read_csv('EXR.csv', delimiter=',')\n",
    "\n",
    "americas_interest_rate['DATE'] = pd.to_datetime(americas_interest_rate['DATE'], errors='coerce')\n",
    "americas_interest_rate.set_index('DATE', inplace=True)\n",
    "americas_interest_rate = americas_interest_rate.resample('M').mean().to_period('M')\n",
    "americas_interest_rate.rename(columns={'FEDFUNDS':'value'},inplace=True)\n",
    "\n",
    "israel_interest_rate = interest_rate_normalization(israel_interest_rate).to_period('M')\n",
    "\n",
    "exr = exr_normalization(exr).to_period('M')\n",
    "\n",
    "israel_interest_rate.head()\n",
    "americas_interest_rate.head()\n",
    "\n",
    "\n"
   ]
  },
  {
   "cell_type": "code",
   "execution_count": null,
   "id": "d040ecd2-1744-4758-8274-10e75a2057de",
   "metadata": {},
   "outputs": [],
   "source": []
  },
  {
   "cell_type": "code",
   "execution_count": null,
   "id": "43bb73f6-1f9f-4b35-ab04-fe2c7cff2b42",
   "metadata": {},
   "outputs": [],
   "source": []
  },
  {
   "cell_type": "code",
   "execution_count": null,
   "id": "b61f1e6b-2bc4-4d2f-938e-3d28043b9b21",
   "metadata": {},
   "outputs": [],
   "source": []
  },
  {
   "cell_type": "code",
   "execution_count": null,
   "id": "7a6e1fd7-788e-447e-97a5-e832a8933912",
   "metadata": {},
   "outputs": [],
   "source": []
  },
  {
   "cell_type": "code",
   "execution_count": null,
   "id": "342044c9-9a4f-486a-8127-5d02ca0b05ca",
   "metadata": {},
   "outputs": [],
   "source": []
  },
  {
   "cell_type": "markdown",
   "id": "71323c7318598fbb",
   "metadata": {},
   "source": [
    "## Part A: Single DataFrame Analysis \n",
    "1. Display the first 5 rows of the US interest rates DataFrame.\n",
    "\n",
    "2. Calculate the average Israeli interest rate over the period covered by your data.\n",
    "\n",
    "3. Find the month and year when the USD to ILS exchange rate had the highest increase from the previous month.\n",
    "\n",
    "4. Determine the total number of months where the US interest rate decreased compared to the previous month.\n",
    "\n",
    "5. Add a new column to the Israeli interest rates DataFrame called Change_Percentage, representing the percentage change from the previous month.\n",
    "\n"
   ]
  },
  {
   "cell_type": "code",
   "execution_count": 110,
   "id": "399887d7fba8803a",
   "metadata": {
    "ExecuteTime": {
     "end_time": "2024-11-07T00:06:28.045691Z",
     "start_time": "2024-11-07T00:06:28.043900Z"
    }
   },
   "outputs": [
    {
     "data": {
      "text/html": [
       "<div>\n",
       "<style scoped>\n",
       "    .dataframe tbody tr th:only-of-type {\n",
       "        vertical-align: middle;\n",
       "    }\n",
       "\n",
       "    .dataframe tbody tr th {\n",
       "        vertical-align: top;\n",
       "    }\n",
       "\n",
       "    .dataframe thead th {\n",
       "        text-align: right;\n",
       "    }\n",
       "</style>\n",
       "<table border=\"1\" class=\"dataframe\">\n",
       "  <thead>\n",
       "    <tr style=\"text-align: right;\">\n",
       "      <th></th>\n",
       "      <th>value</th>\n",
       "    </tr>\n",
       "    <tr>\n",
       "      <th>DATE</th>\n",
       "      <th></th>\n",
       "    </tr>\n",
       "  </thead>\n",
       "  <tbody>\n",
       "    <tr>\n",
       "      <th>1993-01</th>\n",
       "      <td>3.02</td>\n",
       "    </tr>\n",
       "    <tr>\n",
       "      <th>1993-02</th>\n",
       "      <td>3.03</td>\n",
       "    </tr>\n",
       "    <tr>\n",
       "      <th>1993-03</th>\n",
       "      <td>3.07</td>\n",
       "    </tr>\n",
       "    <tr>\n",
       "      <th>1993-04</th>\n",
       "      <td>2.96</td>\n",
       "    </tr>\n",
       "    <tr>\n",
       "      <th>1993-05</th>\n",
       "      <td>3.00</td>\n",
       "    </tr>\n",
       "  </tbody>\n",
       "</table>\n",
       "</div>"
      ],
      "text/plain": [
       "         value\n",
       "DATE          \n",
       "1993-01   3.02\n",
       "1993-02   3.03\n",
       "1993-03   3.07\n",
       "1993-04   2.96\n",
       "1993-05   3.00"
      ]
     },
     "execution_count": 110,
     "metadata": {},
     "output_type": "execute_result"
    }
   ],
   "source": [
    "# A - 1\n",
    "# your code here\n",
    "americas_interest_rate.head(5)"
   ]
  },
  {
   "cell_type": "code",
   "execution_count": 111,
   "id": "91d022cc344514de",
   "metadata": {
    "ExecuteTime": {
     "end_time": "2024-11-07T00:06:49.986484Z",
     "start_time": "2024-11-07T00:06:49.984372Z"
    }
   },
   "outputs": [
    {
     "data": {
      "text/plain": [
       "4.882464815653211"
      ]
     },
     "execution_count": 111,
     "metadata": {},
     "output_type": "execute_result"
    }
   ],
   "source": [
    "# A - 2\n",
    "# your code here\n",
    "israel_interest_rate[\"value\"].mean()"
   ]
  },
  {
   "cell_type": "code",
   "execution_count": 112,
   "id": "c29c363cd4e9a279",
   "metadata": {
    "ExecuteTime": {
     "end_time": "2024-11-07T00:06:53.867357Z",
     "start_time": "2024-11-07T00:06:53.865505Z"
    }
   },
   "outputs": [
    {
     "data": {
      "text/plain": [
       "0.34911111111111115"
      ]
     },
     "execution_count": 112,
     "metadata": {},
     "output_type": "execute_result"
    }
   ],
   "source": [
    "# A - 3\n",
    "# your code here\n",
    "exr['change'] = exr[\"value\"].diff()\n",
    "exr.loc[exr['change'].idxmax(),'change']"
   ]
  },
  {
   "cell_type": "code",
   "execution_count": 113,
   "id": "c4c8ec122d04672",
   "metadata": {
    "ExecuteTime": {
     "end_time": "2024-11-07T00:06:56.963009Z",
     "start_time": "2024-11-07T00:06:56.960675Z"
    }
   },
   "outputs": [
    {
     "data": {
      "text/plain": [
       "value     191\n",
       "change    191\n",
       "dtype: int64"
      ]
     },
     "execution_count": 113,
     "metadata": {},
     "output_type": "execute_result"
    }
   ],
   "source": [
    "# A - 4\n",
    "# your code here\n",
    "exr[exr['change'] < 0].count()"
   ]
  },
  {
   "cell_type": "code",
   "execution_count": 114,
   "id": "49115d5dbff52532",
   "metadata": {},
   "outputs": [
    {
     "data": {
      "text/html": [
       "<div>\n",
       "<style scoped>\n",
       "    .dataframe tbody tr th:only-of-type {\n",
       "        vertical-align: middle;\n",
       "    }\n",
       "\n",
       "    .dataframe tbody tr th {\n",
       "        vertical-align: top;\n",
       "    }\n",
       "\n",
       "    .dataframe thead th {\n",
       "        text-align: right;\n",
       "    }\n",
       "</style>\n",
       "<table border=\"1\" class=\"dataframe\">\n",
       "  <thead>\n",
       "    <tr style=\"text-align: right;\">\n",
       "      <th></th>\n",
       "      <th>value</th>\n",
       "      <th>Change_Percentage</th>\n",
       "    </tr>\n",
       "    <tr>\n",
       "      <th>DATE</th>\n",
       "      <th></th>\n",
       "      <th></th>\n",
       "    </tr>\n",
       "  </thead>\n",
       "  <tbody>\n",
       "    <tr>\n",
       "      <th>1994-01</th>\n",
       "      <td>10.500000</td>\n",
       "      <td>NaN</td>\n",
       "    </tr>\n",
       "    <tr>\n",
       "      <th>1994-02</th>\n",
       "      <td>10.500000</td>\n",
       "      <td>0.000000</td>\n",
       "    </tr>\n",
       "    <tr>\n",
       "      <th>1994-03</th>\n",
       "      <td>10.500000</td>\n",
       "      <td>0.000000</td>\n",
       "    </tr>\n",
       "    <tr>\n",
       "      <th>1994-04</th>\n",
       "      <td>10.500000</td>\n",
       "      <td>0.000000</td>\n",
       "    </tr>\n",
       "    <tr>\n",
       "      <th>1994-05</th>\n",
       "      <td>10.919355</td>\n",
       "      <td>3.993856</td>\n",
       "    </tr>\n",
       "    <tr>\n",
       "      <th>...</th>\n",
       "      <td>...</td>\n",
       "      <td>...</td>\n",
       "    </tr>\n",
       "    <tr>\n",
       "      <th>2024-07</th>\n",
       "      <td>4.500000</td>\n",
       "      <td>0.000000</td>\n",
       "    </tr>\n",
       "    <tr>\n",
       "      <th>2024-08</th>\n",
       "      <td>4.500000</td>\n",
       "      <td>0.000000</td>\n",
       "    </tr>\n",
       "    <tr>\n",
       "      <th>2024-09</th>\n",
       "      <td>4.500000</td>\n",
       "      <td>0.000000</td>\n",
       "    </tr>\n",
       "    <tr>\n",
       "      <th>2024-10</th>\n",
       "      <td>4.500000</td>\n",
       "      <td>0.000000</td>\n",
       "    </tr>\n",
       "    <tr>\n",
       "      <th>2024-11</th>\n",
       "      <td>4.500000</td>\n",
       "      <td>0.000000</td>\n",
       "    </tr>\n",
       "  </tbody>\n",
       "</table>\n",
       "<p>371 rows × 2 columns</p>\n",
       "</div>"
      ],
      "text/plain": [
       "             value  Change_Percentage\n",
       "DATE                                 \n",
       "1994-01  10.500000                NaN\n",
       "1994-02  10.500000           0.000000\n",
       "1994-03  10.500000           0.000000\n",
       "1994-04  10.500000           0.000000\n",
       "1994-05  10.919355           3.993856\n",
       "...            ...                ...\n",
       "2024-07   4.500000           0.000000\n",
       "2024-08   4.500000           0.000000\n",
       "2024-09   4.500000           0.000000\n",
       "2024-10   4.500000           0.000000\n",
       "2024-11   4.500000           0.000000\n",
       "\n",
       "[371 rows x 2 columns]"
      ]
     },
     "execution_count": 114,
     "metadata": {},
     "output_type": "execute_result"
    }
   ],
   "source": [
    "# A - 5\n",
    "# your code here\n",
    "israel_interest_rate['Change_Percentage'] = israel_interest_rate['value'].pct_change() * 100\n",
    "israel_interest_rate"
   ]
  },
  {
   "cell_type": "markdown",
   "id": "37324394ba9e1454",
   "metadata": {},
   "source": [
    "## Part B: Merging DataFrames\n",
    "1. Merge the US and Israeli interest rates DataFrames on Year and Month.\n",
    "\n",
    "2. In the merged DataFrame, create a new column Rate_Difference that shows the difference between the Israeli and US interest rates for each month.\n",
    "\n",
    "3. Identify all months when the Israeli interest rate was at least 1% higher than the US interest rate - IH (Israeli Higher).\n",
    "Identify all months when the US interest rate was at least 1% higher than the Israeli interest rate - UH (US Higher).\n",
    "Identify all months when the interest rates were within 1% of each other - N (Near)\n",
    "make a new column called Rate_Comparison with the following values: IH, UH, or N.\n",
    "\n",
    "4. Merge the exchange rate DataFrame with the merged interest rates DataFrame.\n",
    "\n",
    "5. After merging all three DataFrames, find the correlation between the Rate_Difference and the Current_Rate of the exchange rate.\n",
    "hint: find the connection between the difference in interest rates and the exchange rates, use any method you think is appropriate.\n",
    "provide an explanation of the results (in Hebrew) - at least 2 rows of text + a proof of the connection(some output) you found.\n"
   ]
  },
  {
   "cell_type": "code",
   "execution_count": 115,
   "id": "f6fcdba8d4d32d73",
   "metadata": {
    "ExecuteTime": {
     "end_time": "2024-11-07T00:06:02.968903Z",
     "start_time": "2024-11-07T00:06:02.967090Z"
    },
    "scrolled": true
   },
   "outputs": [
    {
     "data": {
      "text/html": [
       "<div>\n",
       "<style scoped>\n",
       "    .dataframe tbody tr th:only-of-type {\n",
       "        vertical-align: middle;\n",
       "    }\n",
       "\n",
       "    .dataframe tbody tr th {\n",
       "        vertical-align: top;\n",
       "    }\n",
       "\n",
       "    .dataframe thead th {\n",
       "        text-align: right;\n",
       "    }\n",
       "</style>\n",
       "<table border=\"1\" class=\"dataframe\">\n",
       "  <thead>\n",
       "    <tr style=\"text-align: right;\">\n",
       "      <th></th>\n",
       "      <th>value_US</th>\n",
       "      <th>Change_Percentage_US</th>\n",
       "      <th>value_IL</th>\n",
       "      <th>Change_Percentage_IL</th>\n",
       "    </tr>\n",
       "    <tr>\n",
       "      <th>DATE</th>\n",
       "      <th></th>\n",
       "      <th></th>\n",
       "      <th></th>\n",
       "      <th></th>\n",
       "    </tr>\n",
       "  </thead>\n",
       "  <tbody>\n",
       "    <tr>\n",
       "      <th>1994-01</th>\n",
       "      <td>3.05</td>\n",
       "      <td>3.040541</td>\n",
       "      <td>10.500000</td>\n",
       "      <td>NaN</td>\n",
       "    </tr>\n",
       "    <tr>\n",
       "      <th>1994-02</th>\n",
       "      <td>3.25</td>\n",
       "      <td>6.557377</td>\n",
       "      <td>10.500000</td>\n",
       "      <td>0.000000</td>\n",
       "    </tr>\n",
       "    <tr>\n",
       "      <th>1994-03</th>\n",
       "      <td>3.34</td>\n",
       "      <td>2.769231</td>\n",
       "      <td>10.500000</td>\n",
       "      <td>0.000000</td>\n",
       "    </tr>\n",
       "    <tr>\n",
       "      <th>1994-04</th>\n",
       "      <td>3.56</td>\n",
       "      <td>6.586826</td>\n",
       "      <td>10.500000</td>\n",
       "      <td>0.000000</td>\n",
       "    </tr>\n",
       "    <tr>\n",
       "      <th>1994-05</th>\n",
       "      <td>4.01</td>\n",
       "      <td>12.640449</td>\n",
       "      <td>10.919355</td>\n",
       "      <td>3.993856</td>\n",
       "    </tr>\n",
       "    <tr>\n",
       "      <th>...</th>\n",
       "      <td>...</td>\n",
       "      <td>...</td>\n",
       "      <td>...</td>\n",
       "      <td>...</td>\n",
       "    </tr>\n",
       "    <tr>\n",
       "      <th>2023-06</th>\n",
       "      <td>5.08</td>\n",
       "      <td>0.395257</td>\n",
       "      <td>4.750000</td>\n",
       "      <td>4.247788</td>\n",
       "    </tr>\n",
       "    <tr>\n",
       "      <th>2023-07</th>\n",
       "      <td>5.12</td>\n",
       "      <td>0.787402</td>\n",
       "      <td>4.750000</td>\n",
       "      <td>0.000000</td>\n",
       "    </tr>\n",
       "    <tr>\n",
       "      <th>2023-08</th>\n",
       "      <td>5.33</td>\n",
       "      <td>4.101562</td>\n",
       "      <td>4.750000</td>\n",
       "      <td>0.000000</td>\n",
       "    </tr>\n",
       "    <tr>\n",
       "      <th>2023-09</th>\n",
       "      <td>5.33</td>\n",
       "      <td>0.000000</td>\n",
       "      <td>4.750000</td>\n",
       "      <td>0.000000</td>\n",
       "    </tr>\n",
       "    <tr>\n",
       "      <th>2023-10</th>\n",
       "      <td>5.33</td>\n",
       "      <td>0.000000</td>\n",
       "      <td>4.750000</td>\n",
       "      <td>0.000000</td>\n",
       "    </tr>\n",
       "  </tbody>\n",
       "</table>\n",
       "<p>358 rows × 4 columns</p>\n",
       "</div>"
      ],
      "text/plain": [
       "         value_US  Change_Percentage_US   value_IL  Change_Percentage_IL\n",
       "DATE                                                                    \n",
       "1994-01      3.05              3.040541  10.500000                   NaN\n",
       "1994-02      3.25              6.557377  10.500000              0.000000\n",
       "1994-03      3.34              2.769231  10.500000              0.000000\n",
       "1994-04      3.56              6.586826  10.500000              0.000000\n",
       "1994-05      4.01             12.640449  10.919355              3.993856\n",
       "...           ...                   ...        ...                   ...\n",
       "2023-06      5.08              0.395257   4.750000              4.247788\n",
       "2023-07      5.12              0.787402   4.750000              0.000000\n",
       "2023-08      5.33              4.101562   4.750000              0.000000\n",
       "2023-09      5.33              0.000000   4.750000              0.000000\n",
       "2023-10      5.33              0.000000   4.750000              0.000000\n",
       "\n",
       "[358 rows x 4 columns]"
      ]
     },
     "execution_count": 115,
     "metadata": {},
     "output_type": "execute_result"
    }
   ],
   "source": [
    "# B - 1\n",
    "# your code here\n",
    "americas_interest_rate['Change_Percentage'] = americas_interest_rate['value'].pct_change() * 100\n",
    "merged_data = pd.merge(americas_interest_rate, israel_interest_rate, left_index=True,right_index=True, suffixes=('_US', '_IL'))\n",
    "merged_data\n"
   ]
  },
  {
   "cell_type": "code",
   "execution_count": null,
   "id": "dd62e719-de91-4e8a-bb5c-5650532216d9",
   "metadata": {},
   "outputs": [],
   "source": []
  },
  {
   "cell_type": "code",
   "execution_count": 116,
   "id": "7f18978fee56c6d6",
   "metadata": {
    "ExecuteTime": {
     "end_time": "2024-11-07T00:06:08.105790Z",
     "start_time": "2024-11-07T00:06:08.103620Z"
    }
   },
   "outputs": [
    {
     "data": {
      "text/html": [
       "<div>\n",
       "<style scoped>\n",
       "    .dataframe tbody tr th:only-of-type {\n",
       "        vertical-align: middle;\n",
       "    }\n",
       "\n",
       "    .dataframe tbody tr th {\n",
       "        vertical-align: top;\n",
       "    }\n",
       "\n",
       "    .dataframe thead th {\n",
       "        text-align: right;\n",
       "    }\n",
       "</style>\n",
       "<table border=\"1\" class=\"dataframe\">\n",
       "  <thead>\n",
       "    <tr style=\"text-align: right;\">\n",
       "      <th></th>\n",
       "      <th>value_US</th>\n",
       "      <th>Change_Percentage_US</th>\n",
       "      <th>value_IL</th>\n",
       "      <th>Change_Percentage_IL</th>\n",
       "      <th>difference</th>\n",
       "    </tr>\n",
       "    <tr>\n",
       "      <th>DATE</th>\n",
       "      <th></th>\n",
       "      <th></th>\n",
       "      <th></th>\n",
       "      <th></th>\n",
       "      <th></th>\n",
       "    </tr>\n",
       "  </thead>\n",
       "  <tbody>\n",
       "    <tr>\n",
       "      <th>1994-01</th>\n",
       "      <td>3.05</td>\n",
       "      <td>3.040541</td>\n",
       "      <td>10.500000</td>\n",
       "      <td>NaN</td>\n",
       "      <td>7.450000</td>\n",
       "    </tr>\n",
       "    <tr>\n",
       "      <th>1994-02</th>\n",
       "      <td>3.25</td>\n",
       "      <td>6.557377</td>\n",
       "      <td>10.500000</td>\n",
       "      <td>0.000000</td>\n",
       "      <td>7.250000</td>\n",
       "    </tr>\n",
       "    <tr>\n",
       "      <th>1994-03</th>\n",
       "      <td>3.34</td>\n",
       "      <td>2.769231</td>\n",
       "      <td>10.500000</td>\n",
       "      <td>0.000000</td>\n",
       "      <td>7.160000</td>\n",
       "    </tr>\n",
       "    <tr>\n",
       "      <th>1994-04</th>\n",
       "      <td>3.56</td>\n",
       "      <td>6.586826</td>\n",
       "      <td>10.500000</td>\n",
       "      <td>0.000000</td>\n",
       "      <td>6.940000</td>\n",
       "    </tr>\n",
       "    <tr>\n",
       "      <th>1994-05</th>\n",
       "      <td>4.01</td>\n",
       "      <td>12.640449</td>\n",
       "      <td>10.919355</td>\n",
       "      <td>3.993856</td>\n",
       "      <td>6.909355</td>\n",
       "    </tr>\n",
       "    <tr>\n",
       "      <th>...</th>\n",
       "      <td>...</td>\n",
       "      <td>...</td>\n",
       "      <td>...</td>\n",
       "      <td>...</td>\n",
       "      <td>...</td>\n",
       "    </tr>\n",
       "    <tr>\n",
       "      <th>2023-06</th>\n",
       "      <td>5.08</td>\n",
       "      <td>0.395257</td>\n",
       "      <td>4.750000</td>\n",
       "      <td>4.247788</td>\n",
       "      <td>-0.330000</td>\n",
       "    </tr>\n",
       "    <tr>\n",
       "      <th>2023-07</th>\n",
       "      <td>5.12</td>\n",
       "      <td>0.787402</td>\n",
       "      <td>4.750000</td>\n",
       "      <td>0.000000</td>\n",
       "      <td>-0.370000</td>\n",
       "    </tr>\n",
       "    <tr>\n",
       "      <th>2023-08</th>\n",
       "      <td>5.33</td>\n",
       "      <td>4.101562</td>\n",
       "      <td>4.750000</td>\n",
       "      <td>0.000000</td>\n",
       "      <td>-0.580000</td>\n",
       "    </tr>\n",
       "    <tr>\n",
       "      <th>2023-09</th>\n",
       "      <td>5.33</td>\n",
       "      <td>0.000000</td>\n",
       "      <td>4.750000</td>\n",
       "      <td>0.000000</td>\n",
       "      <td>-0.580000</td>\n",
       "    </tr>\n",
       "    <tr>\n",
       "      <th>2023-10</th>\n",
       "      <td>5.33</td>\n",
       "      <td>0.000000</td>\n",
       "      <td>4.750000</td>\n",
       "      <td>0.000000</td>\n",
       "      <td>-0.580000</td>\n",
       "    </tr>\n",
       "  </tbody>\n",
       "</table>\n",
       "<p>358 rows × 5 columns</p>\n",
       "</div>"
      ],
      "text/plain": [
       "         value_US  Change_Percentage_US   value_IL  Change_Percentage_IL  \\\n",
       "DATE                                                                       \n",
       "1994-01      3.05              3.040541  10.500000                   NaN   \n",
       "1994-02      3.25              6.557377  10.500000              0.000000   \n",
       "1994-03      3.34              2.769231  10.500000              0.000000   \n",
       "1994-04      3.56              6.586826  10.500000              0.000000   \n",
       "1994-05      4.01             12.640449  10.919355              3.993856   \n",
       "...           ...                   ...        ...                   ...   \n",
       "2023-06      5.08              0.395257   4.750000              4.247788   \n",
       "2023-07      5.12              0.787402   4.750000              0.000000   \n",
       "2023-08      5.33              4.101562   4.750000              0.000000   \n",
       "2023-09      5.33              0.000000   4.750000              0.000000   \n",
       "2023-10      5.33              0.000000   4.750000              0.000000   \n",
       "\n",
       "         difference  \n",
       "DATE                 \n",
       "1994-01    7.450000  \n",
       "1994-02    7.250000  \n",
       "1994-03    7.160000  \n",
       "1994-04    6.940000  \n",
       "1994-05    6.909355  \n",
       "...             ...  \n",
       "2023-06   -0.330000  \n",
       "2023-07   -0.370000  \n",
       "2023-08   -0.580000  \n",
       "2023-09   -0.580000  \n",
       "2023-10   -0.580000  \n",
       "\n",
       "[358 rows x 5 columns]"
      ]
     },
     "execution_count": 116,
     "metadata": {},
     "output_type": "execute_result"
    }
   ],
   "source": [
    "# B - 2\n",
    "# your code here\n",
    "merged_data['difference'] = merged_data['value_IL'] - merged_data['value_US']\n",
    "merged_data"
   ]
  },
  {
   "cell_type": "code",
   "execution_count": 117,
   "id": "c6dcf835650149bf",
   "metadata": {
    "ExecuteTime": {
     "end_time": "2024-11-07T00:06:10.259079Z",
     "start_time": "2024-11-07T00:06:10.257004Z"
    },
    "scrolled": true
   },
   "outputs": [
    {
     "data": {
      "text/plain": [
       "value     2.984731\n",
       "change    0.012694\n",
       "Name: 1994-01, dtype: float64"
      ]
     },
     "execution_count": 117,
     "metadata": {},
     "output_type": "execute_result"
    }
   ],
   "source": [
    "# B - 3\n",
    "# your code here\n",
    "import numpy as np\n",
    "conditions = [\n",
    "   merged_data['value_US'] - merged_data['value_IL']> 1,\n",
    "   (merged_data['value_IL'] - merged_data['value_US'] >= 1),\n",
    "]\n",
    "choices = [ 'UH','IH']\n",
    "# Create a new column with numpy.select\n",
    "merged_data['Rate_Comparison'] = np.select(conditions, choices, default='N')\n",
    "merged_data\n",
    "exr.loc['1994-01']"
   ]
  },
  {
   "cell_type": "code",
   "execution_count": 118,
   "id": "3145d351d7cbe982",
   "metadata": {
    "ExecuteTime": {
     "end_time": "2024-11-07T00:06:12.381548Z",
     "start_time": "2024-11-07T00:06:12.379873Z"
    }
   },
   "outputs": [],
   "source": [
    "# B - 4\n",
    "# your code here\n",
    "exr = exr.rename(columns={'value': 'value_exr'})\n",
    "merged_data = merged_data.merge(exr,left_index=True,right_index=True)"
   ]
  },
  {
   "cell_type": "code",
   "execution_count": 120,
   "id": "fe04eba74c68ab35",
   "metadata": {
    "ExecuteTime": {
     "end_time": "2024-11-07T00:06:37.878612Z",
     "start_time": "2024-11-07T00:06:37.876775Z"
    }
   },
   "outputs": [
    {
     "data": {
      "text/plain": [
       "-0.11745274561921125"
      ]
     },
     "execution_count": 120,
     "metadata": {},
     "output_type": "execute_result"
    }
   ],
   "source": [
    "# B - 5\n",
    "# your code here\n",
    "merged_data\n",
    "correlation = merged_data['difference'].corr(merged_data['value_exr'])\n",
    "correlation"
   ]
  },
  {
   "cell_type": "code",
   "execution_count": 121,
   "id": "48d876ac1bc8092",
   "metadata": {},
   "outputs": [
    {
     "data": {
      "text/html": [
       "<div>\n",
       "<style scoped>\n",
       "    .dataframe tbody tr th:only-of-type {\n",
       "        vertical-align: middle;\n",
       "    }\n",
       "\n",
       "    .dataframe tbody tr th {\n",
       "        vertical-align: top;\n",
       "    }\n",
       "\n",
       "    .dataframe thead th {\n",
       "        text-align: right;\n",
       "    }\n",
       "</style>\n",
       "<table border=\"1\" class=\"dataframe\">\n",
       "  <thead>\n",
       "    <tr style=\"text-align: right;\">\n",
       "      <th></th>\n",
       "      <th>value_US</th>\n",
       "      <th>Change_Percentage_US</th>\n",
       "      <th>value_IL</th>\n",
       "      <th>Change_Percentage_IL</th>\n",
       "      <th>difference</th>\n",
       "      <th>Rate_Comparison</th>\n",
       "      <th>value_exr</th>\n",
       "      <th>change</th>\n",
       "    </tr>\n",
       "    <tr>\n",
       "      <th>DATE</th>\n",
       "      <th></th>\n",
       "      <th></th>\n",
       "      <th></th>\n",
       "      <th></th>\n",
       "      <th></th>\n",
       "      <th></th>\n",
       "      <th></th>\n",
       "      <th></th>\n",
       "    </tr>\n",
       "  </thead>\n",
       "  <tbody>\n",
       "    <tr>\n",
       "      <th>1994-01</th>\n",
       "      <td>3.05</td>\n",
       "      <td>3.040541</td>\n",
       "      <td>10.500000</td>\n",
       "      <td>NaN</td>\n",
       "      <td>7.450000</td>\n",
       "      <td>IH</td>\n",
       "      <td>2.984731</td>\n",
       "      <td>0.012694</td>\n",
       "    </tr>\n",
       "    <tr>\n",
       "      <th>1994-02</th>\n",
       "      <td>3.25</td>\n",
       "      <td>6.557377</td>\n",
       "      <td>10.500000</td>\n",
       "      <td>0.000000</td>\n",
       "      <td>7.250000</td>\n",
       "      <td>IH</td>\n",
       "      <td>2.976826</td>\n",
       "      <td>-0.007905</td>\n",
       "    </tr>\n",
       "    <tr>\n",
       "      <th>1994-03</th>\n",
       "      <td>3.34</td>\n",
       "      <td>2.769231</td>\n",
       "      <td>10.500000</td>\n",
       "      <td>0.000000</td>\n",
       "      <td>7.160000</td>\n",
       "      <td>IH</td>\n",
       "      <td>2.971846</td>\n",
       "      <td>-0.004980</td>\n",
       "    </tr>\n",
       "    <tr>\n",
       "      <th>1994-04</th>\n",
       "      <td>3.56</td>\n",
       "      <td>6.586826</td>\n",
       "      <td>10.500000</td>\n",
       "      <td>0.000000</td>\n",
       "      <td>6.940000</td>\n",
       "      <td>IH</td>\n",
       "      <td>2.991591</td>\n",
       "      <td>0.019745</td>\n",
       "    </tr>\n",
       "    <tr>\n",
       "      <th>1994-05</th>\n",
       "      <td>4.01</td>\n",
       "      <td>12.640449</td>\n",
       "      <td>10.919355</td>\n",
       "      <td>3.993856</td>\n",
       "      <td>6.909355</td>\n",
       "      <td>IH</td>\n",
       "      <td>3.015077</td>\n",
       "      <td>0.023486</td>\n",
       "    </tr>\n",
       "    <tr>\n",
       "      <th>...</th>\n",
       "      <td>...</td>\n",
       "      <td>...</td>\n",
       "      <td>...</td>\n",
       "      <td>...</td>\n",
       "      <td>...</td>\n",
       "      <td>...</td>\n",
       "      <td>...</td>\n",
       "      <td>...</td>\n",
       "    </tr>\n",
       "    <tr>\n",
       "      <th>2023-06</th>\n",
       "      <td>5.08</td>\n",
       "      <td>0.395257</td>\n",
       "      <td>4.750000</td>\n",
       "      <td>4.247788</td>\n",
       "      <td>-0.330000</td>\n",
       "      <td>N</td>\n",
       "      <td>3.644636</td>\n",
       "      <td>-0.015459</td>\n",
       "    </tr>\n",
       "    <tr>\n",
       "      <th>2023-07</th>\n",
       "      <td>5.12</td>\n",
       "      <td>0.787402</td>\n",
       "      <td>4.750000</td>\n",
       "      <td>0.000000</td>\n",
       "      <td>-0.370000</td>\n",
       "      <td>N</td>\n",
       "      <td>3.668350</td>\n",
       "      <td>0.023714</td>\n",
       "    </tr>\n",
       "    <tr>\n",
       "      <th>2023-08</th>\n",
       "      <td>5.33</td>\n",
       "      <td>4.101562</td>\n",
       "      <td>4.750000</td>\n",
       "      <td>0.000000</td>\n",
       "      <td>-0.580000</td>\n",
       "      <td>N</td>\n",
       "      <td>3.745870</td>\n",
       "      <td>0.077520</td>\n",
       "    </tr>\n",
       "    <tr>\n",
       "      <th>2023-09</th>\n",
       "      <td>5.33</td>\n",
       "      <td>0.000000</td>\n",
       "      <td>4.750000</td>\n",
       "      <td>0.000000</td>\n",
       "      <td>-0.580000</td>\n",
       "      <td>N</td>\n",
       "      <td>3.820158</td>\n",
       "      <td>0.074288</td>\n",
       "    </tr>\n",
       "    <tr>\n",
       "      <th>2023-10</th>\n",
       "      <td>5.33</td>\n",
       "      <td>0.000000</td>\n",
       "      <td>4.750000</td>\n",
       "      <td>0.000000</td>\n",
       "      <td>-0.580000</td>\n",
       "      <td>N</td>\n",
       "      <td>3.978273</td>\n",
       "      <td>0.158115</td>\n",
       "    </tr>\n",
       "  </tbody>\n",
       "</table>\n",
       "<p>358 rows × 8 columns</p>\n",
       "</div>"
      ],
      "text/plain": [
       "         value_US  Change_Percentage_US   value_IL  Change_Percentage_IL  \\\n",
       "DATE                                                                       \n",
       "1994-01      3.05              3.040541  10.500000                   NaN   \n",
       "1994-02      3.25              6.557377  10.500000              0.000000   \n",
       "1994-03      3.34              2.769231  10.500000              0.000000   \n",
       "1994-04      3.56              6.586826  10.500000              0.000000   \n",
       "1994-05      4.01             12.640449  10.919355              3.993856   \n",
       "...           ...                   ...        ...                   ...   \n",
       "2023-06      5.08              0.395257   4.750000              4.247788   \n",
       "2023-07      5.12              0.787402   4.750000              0.000000   \n",
       "2023-08      5.33              4.101562   4.750000              0.000000   \n",
       "2023-09      5.33              0.000000   4.750000              0.000000   \n",
       "2023-10      5.33              0.000000   4.750000              0.000000   \n",
       "\n",
       "         difference Rate_Comparison  value_exr    change  \n",
       "DATE                                                      \n",
       "1994-01    7.450000              IH   2.984731  0.012694  \n",
       "1994-02    7.250000              IH   2.976826 -0.007905  \n",
       "1994-03    7.160000              IH   2.971846 -0.004980  \n",
       "1994-04    6.940000              IH   2.991591  0.019745  \n",
       "1994-05    6.909355              IH   3.015077  0.023486  \n",
       "...             ...             ...        ...       ...  \n",
       "2023-06   -0.330000               N   3.644636 -0.015459  \n",
       "2023-07   -0.370000               N   3.668350  0.023714  \n",
       "2023-08   -0.580000               N   3.745870  0.077520  \n",
       "2023-09   -0.580000               N   3.820158  0.074288  \n",
       "2023-10   -0.580000               N   3.978273  0.158115  \n",
       "\n",
       "[358 rows x 8 columns]"
      ]
     },
     "execution_count": 121,
     "metadata": {},
     "output_type": "execute_result"
    }
   ],
   "source": [
    "merged_data\n"
   ]
  },
  {
   "cell_type": "markdown",
   "id": "22213f81bdf06965",
   "metadata": {},
   "source": [
    "## Part C: Analyzing Relationships Between DataFrames\n",
    "1. Analyze whether increases in US interest rates are associated with increases or decreases in the USD to ILS exchange rate in the same month.\n",
    "\n",
    "2. Determine if changes in the Israeli interest rate have a stronger impact on the exchange rate than changes in the US interest rate.\n",
    "\n",
    "3. Find any time lags in the effect of interest rate changes on the exchange rate. For example, does a change in US interest rates affect the exchange rate in the following month?\n",
    "(כלומר- האם כשיש שינוי בריבית כלשהי - האם מייד יש שינוי בשער ההמרה? או שיש דיליי של חודש/חודשים עד שמרגישים את ההשפעה - אם בכלל?)\n",
    "\n",
    "4. Calculate the rolling past 3-month average of the exchange rate for each data time, and add it as a new column.\n",
    "\n",
    "5. Identify any periods where both US and Israeli interest rates were decreasing, and analyze how the exchange rate behaved during those periods.\n",
    "\n"
   ]
  },
  {
   "cell_type": "code",
   "execution_count": 71,
   "id": "706a690fd803211c",
   "metadata": {},
   "outputs": [
    {
     "data": {
      "text/plain": [
       "-0.0031306730833359623"
      ]
     },
     "execution_count": 71,
     "metadata": {},
     "output_type": "execute_result"
    }
   ],
   "source": [
    "#1\n",
    "merged_data['value_US'].corr(merged_data['value_exr'])"
   ]
  },
  {
   "cell_type": "code",
   "execution_count": 101,
   "id": "0b14fdfb-f8bd-4cf2-ab7c-153d8245a3f4",
   "metadata": {},
   "outputs": [
    {
     "data": {
      "text/plain": [
       "0.08417352727733778"
      ]
     },
     "execution_count": 101,
     "metadata": {},
     "output_type": "execute_result"
    }
   ],
   "source": []
  },
  {
   "cell_type": "code",
   "execution_count": 103,
   "id": "d0a82199-b268-44c6-b2ad-328c6eee67f6",
   "metadata": {},
   "outputs": [
    {
     "data": {
      "text/plain": [
       "True"
      ]
     },
     "execution_count": 103,
     "metadata": {},
     "output_type": "execute_result"
    }
   ],
   "source": [
    "#2\n",
    "abs(merged_data['value_IL'].corr(merged_data['value_exr'])) > abs(merged_data['value_US'].corr(merged_data['value_exr']))"
   ]
  },
  {
   "cell_type": "code",
   "execution_count": 75,
   "id": "ba143d31-7b88-4c8a-b4c8-0928cc613bf0",
   "metadata": {},
   "outputs": [
    {
     "data": {
      "text/plain": [
       "corr_us_directly     -0.003131\n",
       "corr_il_direcly      -0.084174\n",
       "corr_us_in_1_month   -0.010534\n",
       "corr_il_in_1_month   -0.087121\n",
       "corr_us_in_2_month   -0.016520\n",
       "corr_il_in_2_month   -0.092240\n",
       "dtype: float64"
      ]
     },
     "execution_count": 75,
     "metadata": {},
     "output_type": "execute_result"
    }
   ],
   "source": [
    "#3\n",
    "result=pd.Series({\n",
    "'corr_us_directly':merged_data['value_US'].corr(merged_data['value_exr']),\n",
    "'corr_il_direcly':merged_data['value_IL'].corr(merged_data['value_exr']),\n",
    "'corr_us_in_1_month':merged_data['value_US'].corr(merged_data['value_exr'].shift(1)),\n",
    "'corr_il_in_1_month':merged_data['value_IL'].corr(merged_data['value_exr'].shift(1)),\n",
    "'corr_us_in_2_month':merged_data['value_US'].corr(merged_data['value_exr'].shift(2)),\n",
    "'corr_il_in_2_month':merged_data['value_IL'].corr(merged_data['value_exr'].shift(2)),\n",
    "})\n",
    "result\n",
    "#\"ע''פ נתונים אלו יש קורולציה שלילית בכל האפשרויות גם מיידי וגם באיחור של 2 חדשים\""
   ]
  },
  {
   "cell_type": "code",
   "execution_count": 60,
   "id": "ac01ab95-d0af-46c5-94d4-deaeca914c38",
   "metadata": {},
   "outputs": [],
   "source": [
    "#4\n",
    "merged_data['mean_3_months'] = merged_data['value_exr'].rolling(window=3).mean()"
   ]
  },
  {
   "cell_type": "code",
   "execution_count": 61,
   "id": "f178be1c-3f71-45ac-8d4d-214cc8511366",
   "metadata": {},
   "outputs": [
    {
     "data": {
      "text/plain": [
       "decreased        23.000000\n",
       "increased        36.000000\n",
       "corrlation_il    -0.231416\n",
       "corrlation_us    -0.053591\n",
       "dtype: float64"
      ]
     },
     "execution_count": 61,
     "metadata": {},
     "output_type": "execute_result"
    }
   ],
   "source": [
    "#5\n",
    "merged_data['decreased'] = (merged_data['Change_Percentage_US'] < 0) & (merged_data['Change_Percentage_IL'] < 0)\n",
    "decreased = merged_data[merged_data['decreased']]\n",
    "result = pd.Series({\n",
    "    \"decreased\": (decreased[\"change\"] < 0).sum(),\n",
    "    \"increased\": (decreased[\"change\"] > 0).sum(),\n",
    "    'corrlation_il' : decreased['Change_Percentage_IL'].corr(decreased['change']),\n",
    "    'corrlation_us' : decreased['Change_Percentage_US'].corr(decreased['change'])\n",
    "})\n",
    "result"
   ]
  },
  {
   "cell_type": "markdown",
   "id": "8be22debf92d8f3a",
   "metadata": {},
   "source": [
    "# Bonus\n",
    "choose 3 global / local events or periods that you think could have affected the exchange rate or interest rates\n",
    "and analyze the effect of these events on the data you collected.\n",
    "show proof of your analysis that supports your claim.\n",
    "\n",
    "(כלומר- תבחנו אירועים שקרו בתקופה שאתם עובדים עליה ובדקו איך הם השפיעו על הנתונים שאתם עובדים איתם)\n",
    "למשל: בחירות בארה״ב, בחירות בישראל, רוסיה אוקראינה, מלחמות בישראל וכו׳."
   ]
  },
  {
   "cell_type": "code",
   "execution_count": 96,
   "id": "7cd992b43f3700e8",
   "metadata": {},
   "outputs": [
    {
     "data": {
      "text/plain": [
       "change_in_exr        0.316798\n",
       "change_in_rate_il    3.207842\n",
       "change_in_rate_us    3.279667\n",
       "dtype: float64"
      ]
     },
     "execution_count": 96,
     "metadata": {},
     "output_type": "execute_result"
    }
   ],
   "source": [
    "# Your code here\n",
    "year_war = merged_data[merged_data.index.year==2023]\n",
    "last_year = merged_data[merged_data.index.year==2022]\n",
    "result = pd.Series({'change_in_exr' : year_war['value_exr'].mean() - last_year['value_exr'].mean(),\n",
    "'change_in_rate_il' : year_war['value_IL'].mean() - last_year['value_IL'].mean(),\n",
    "'change_in_rate_us' : year_war['value_US'].mean() - last_year['value_US'].mean()})\n",
    "result\n",
    "#\"ע''פ הנתונים חל שיני משמעותי בשתחילת המלחמה ועליית הריבית בשיראל ב3.20 ובאמריקה ב3.07\""
   ]
  },
  {
   "cell_type": "code",
   "execution_count": null,
   "id": "ac8bfc54-3534-4cfc-8506-d62ce825390a",
   "metadata": {},
   "outputs": [],
   "source": []
  },
  {
   "cell_type": "code",
   "execution_count": null,
   "id": "682e4b4a-0ec4-4eef-af40-430178052881",
   "metadata": {},
   "outputs": [],
   "source": []
  }
 ],
 "metadata": {
  "kernelspec": {
   "display_name": "Python 3 (ipykernel)",
   "language": "python",
   "name": "python3"
  },
  "language_info": {
   "codemirror_mode": {
    "name": "ipython",
    "version": 3
   },
   "file_extension": ".py",
   "mimetype": "text/x-python",
   "name": "python",
   "nbconvert_exporter": "python",
   "pygments_lexer": "ipython3",
   "version": "3.11.6"
  }
 },
 "nbformat": 4,
 "nbformat_minor": 5
}
